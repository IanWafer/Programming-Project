{
 "cells": [
  {
   "cell_type": "markdown",
   "metadata": {},
   "source": [
    "# Simulated Real World Phenomenon\n",
    "\n",
    "Ian Wafer\n",
    "<br>Student No. G00376322"
   ]
  },
  {
   "cell_type": "markdown",
   "metadata": {},
   "source": [
    "## Purpose\n",
    "\n",
    "The purpose of this programming project is to synthesise a dataset that simulates a rea world phenomenon of our choosing. It is recommended we pick something of interest to our personal or professional life and that we use the numpy.random package to do so. The selected phenomenon needs to be measureable and for which we could collect at least 100 data points across 4 seperate variables for. We need to investigate the variables involved, their distribution in relation to each other. Synthesise or simulate a data set that closely mathces thir properties and detail all research in a Jupyter notebook.\n"
   ]
  },
  {
   "cell_type": "markdown",
   "metadata": {},
   "source": [
    "## Introduction\n",
    "\n",
    "I have decided to investigate and generate a dataset for weight lifted in powerlifting. This is of interest to me as I have previously competed in powerlifting and have noticed certain trends that drive the sport forward\n",
    "\n",
    "In my investigation I will look at the following categories-\n",
    "- Sex\n",
    "- Age\n",
    "- Weight\n",
    "- Years competing\n",
    "- Total Squat Amount Lifted\n",
    "- Total Bench Amount Lifted\n",
    "- Total Deadlift Amount Lifted\n"
   ]
  },
  {
   "cell_type": "code",
   "execution_count": 2,
   "metadata": {},
   "outputs": [],
   "source": [
    "#import relevant modules\n",
    "\n",
    "import pandas as pd\n",
    "import seaborn as sns\n",
    "import numpy as np\n",
    "import matplotlib.pyplot as plt\n",
    "\n",
    "# Sourced from https://stackoverflow.com/questions/43027980/purpose-of-matplotlib-inline\n",
    "# sets the backend of matplotlib to the 'inline' backend\n",
    "\n",
    "%matplotlib inline \n",
    "\n",
    "\n",
    "# Set default grid style for plots\n",
    "\n",
    "sns.set(style='darkgrid')"
   ]
  },
  {
   "cell_type": "markdown",
   "metadata": {},
   "source": [
    "### Sex\n",
    "\n",
    "Next we'll look at the sex of the dataset required. From the source listed we can see that males make up about 63% of the pool while females cover the remaining 37%. Here we can use the numpy.random.choice function to generate the quantity of males and females in the random data generation. NumPy.random.choice will generate a 1 dimnensional array of the required data in the proprtions entered in the probability chance of the event occuring."
   ]
  },
  {
   "cell_type": "code",
   "execution_count": 48,
   "metadata": {},
   "outputs": [
    {
     "name": "stdout",
     "output_type": "stream",
     "text": [
      "['Female' 'Female' 'Male' 'Female' 'Female' 'Female' 'Male' 'Male' 'Male'\n",
      " 'Male' 'Male' 'Female' 'Male' 'Female' 'Male' 'Male' 'Male' 'Male' 'Male'\n",
      " 'Male' 'Female' 'Male' 'Male' 'Male' 'Male' 'Female' 'Male' 'Male' 'Male'\n",
      " 'Female' 'Male' 'Female' 'Male' 'Female' 'Male' 'Male' 'Male' 'Female'\n",
      " 'Female' 'Female' 'Male' 'Female' 'Male' 'Male' 'Female' 'Male' 'Male'\n",
      " 'Male' 'Male' 'Male' 'Male' 'Female' 'Male' 'Male' 'Male' 'Female' 'Male'\n",
      " 'Male' 'Female' 'Female' 'Female' 'Female' 'Female' 'Female' 'Male'\n",
      " 'Male' 'Male' 'Male' 'Male' 'Male' 'Female' 'Female' 'Female' 'Male'\n",
      " 'Male' 'Male' 'Female' 'Male' 'Female' 'Male' 'Male' 'Male' 'Female'\n",
      " 'Female' 'Male' 'Male' 'Male' 'Male' 'Female' 'Female' 'Male' 'Male'\n",
      " 'Male' 'Male' 'Male' 'Female' 'Male' 'Male' 'Male' 'Male']\n"
     ]
    },
    {
     "data": {
      "text/plain": [
       "(array([35.,  0.,  0.,  0.,  0.,  0.,  0.,  0.,  0., 65.]),\n",
       " array([0. , 0.1, 0.2, 0.3, 0.4, 0.5, 0.6, 0.7, 0.8, 0.9, 1. ]),\n",
       " <a list of 10 Patch objects>)"
      ]
     },
     "execution_count": 48,
     "metadata": {},
     "output_type": "execute_result"
    },
    {
     "data": {
      "image/png": "[encoded data removed]",
      "text/plain": [
       "<Figure size 432x288 with 1 Axes>"
      ]
     },
     "metadata": {
      "needs_background": "light"
     },
     "output_type": "display_data"
    }
   ],
   "source": [
    "# Source of info https://www.ncbi.nlm.nih.gov/pubmed/28682930\n",
    "Sex = ['Male', 'Female']\n",
    "Sex = np.random.choice(Sex, 100, p=[0.63, 0.37])\n",
    "print(Sex)\n",
    "\n",
    "plt.hist(Sex)\n"
   ]
  },
  {
   "cell_type": "markdown",
   "metadata": {},
   "source": [
    "### Age\n",
    "\n",
    "In powerlifting there is a wide range of ages from teenagers to senior citizens. To find the trend in lifting age to be expected we will load up a dataset taken from the American Open Powerlfiting database as of 2019. As this database is very large we will only be looking at the first 10,000 rows and rather than the individual ages we will be look at age categories.\n"
   ]
  },
  {
   "cell_type": "code",
   "execution_count": 4,
   "metadata": {},
   "outputs": [
    {
     "data": {
      "text/html": [
       "<div>\n",
       "<style scoped>\n",
       "    .dataframe tbody tr th:only-of-type {\n",
       "        vertical-align: middle;\n",
       "    }\n",
       "\n",
       "    .dataframe tbody tr th {\n",
       "        vertical-align: top;\n",
       "    }\n",
       "\n",
       "    .dataframe thead th {\n",
       "        text-align: right;\n",
       "    }\n",
       "</style>\n",
       "<table border=\"1\" class=\"dataframe\">\n",
       "  <thead>\n",
       "    <tr style=\"text-align: right;\">\n",
       "      <th></th>\n",
       "      <th>Sex</th>\n",
       "      <th>AgeClass</th>\n",
       "      <th>BodyweightKg</th>\n",
       "      <th>Best3SquatKg</th>\n",
       "      <th>Best3BenchKg</th>\n",
       "      <th>Best3DeadliftKg</th>\n",
       "      <th>TotalKg</th>\n",
       "    </tr>\n",
       "  </thead>\n",
       "  <tbody>\n",
       "    <tr>\n",
       "      <th>0</th>\n",
       "      <td>F</td>\n",
       "      <td>24-34</td>\n",
       "      <td>59.8</td>\n",
       "      <td>105.0</td>\n",
       "      <td>55.0</td>\n",
       "      <td>130.0</td>\n",
       "      <td>290.0</td>\n",
       "    </tr>\n",
       "    <tr>\n",
       "      <th>1</th>\n",
       "      <td>F</td>\n",
       "      <td>24-34</td>\n",
       "      <td>58.5</td>\n",
       "      <td>120.0</td>\n",
       "      <td>67.5</td>\n",
       "      <td>145.0</td>\n",
       "      <td>332.5</td>\n",
       "    </tr>\n",
       "    <tr>\n",
       "      <th>2</th>\n",
       "      <td>F</td>\n",
       "      <td>40-44</td>\n",
       "      <td>55.4</td>\n",
       "      <td>NaN</td>\n",
       "      <td>32.5</td>\n",
       "      <td>NaN</td>\n",
       "      <td>32.5</td>\n",
       "    </tr>\n",
       "    <tr>\n",
       "      <th>3</th>\n",
       "      <td>F</td>\n",
       "      <td>20-23</td>\n",
       "      <td>60.0</td>\n",
       "      <td>105.0</td>\n",
       "      <td>72.5</td>\n",
       "      <td>132.5</td>\n",
       "      <td>310.0</td>\n",
       "    </tr>\n",
       "    <tr>\n",
       "      <th>4</th>\n",
       "      <td>F</td>\n",
       "      <td>45-49</td>\n",
       "      <td>104.0</td>\n",
       "      <td>140.0</td>\n",
       "      <td>80.0</td>\n",
       "      <td>170.0</td>\n",
       "      <td>390.0</td>\n",
       "    </tr>\n",
       "  </tbody>\n",
       "</table>\n",
       "</div>"
      ],
      "text/plain": [
       "  Sex AgeClass  BodyweightKg  Best3SquatKg  Best3BenchKg  Best3DeadliftKg  \\\n",
       "0   F    24-34          59.8         105.0          55.0            130.0   \n",
       "1   F    24-34          58.5         120.0          67.5            145.0   \n",
       "2   F    40-44          55.4           NaN          32.5              NaN   \n",
       "3   F    20-23          60.0         105.0          72.5            132.5   \n",
       "4   F    45-49         104.0         140.0          80.0            170.0   \n",
       "\n",
       "   TotalKg  \n",
       "0    290.0  \n",
       "1    332.5  \n",
       "2     32.5  \n",
       "3    310.0  \n",
       "4    390.0  "
      ]
     },
     "execution_count": 4,
     "metadata": {},
     "output_type": "execute_result"
    }
   ],
   "source": [
    "# Sourced from https://stackoverflow.com/questions/23853553/python-pandas-how-to-read-only-first-n-rows-of-csv-files-in/23853569\n",
    "# Database to read only the first 1000 lines as it contains tens of thousands which would be time consuming to load. \n",
    "\n",
    "df = pd.read_csv('openpowerlifting.csv', nrows=10000)\n",
    "\n",
    "# Sourced from https://pandas.pydata.org/pandas-docs/stable/reference/api/pandas.DataFrame.drop.html\n",
    "# Delete irrelevant columns \n",
    "\n",
    "df = df.drop(columns= ['Name', 'Equipment', 'Event', 'Age', 'Division', 'WeightClassKg', 'Squat1Kg', 'Squat2Kg',\n",
    "       'Squat3Kg', 'Squat4Kg', 'Bench1Kg', 'Bench2Kg',\n",
    "       'Bench3Kg', 'Bench4Kg', 'Deadlift1Kg',\n",
    "       'Deadlift2Kg', 'Deadlift3Kg', 'Deadlift4Kg', 'Place', 'Wilks', 'McCulloch', 'Glossbrenner',\n",
    "       'IPFPoints', 'Tested', 'Country', 'Federation', 'Date',\n",
    "       'MeetCountry', 'MeetState', 'MeetName'])\n",
    "\n",
    "# Check data\n",
    "\n",
    "df.head()"
   ]
  },
  {
   "cell_type": "code",
   "execution_count": 5,
   "metadata": {},
   "outputs": [
    {
     "name": "stdout",
     "output_type": "stream",
     "text": [
      "Squat negatives at locations Int64Index([1347, 5349, 5633, 5662, 6712, 7080], dtype='int64')\n",
      "Bench negatives at locations Int64Index([309, 3470, 5607, 5633, 5700, 5703, 6182], dtype='int64')\n",
      "Deadlift negatives at locations Int64Index([], dtype='int64')\n",
      "Bodyweight negatives at locations Int64Index([], dtype='int64')\n",
      "Total negatives at locations Int64Index([], dtype='int64')\n"
     ]
    }
   ],
   "source": [
    "# Values must be positive so check for any dirty data negative values\n",
    "\n",
    "print('Squat negatives at locations', df[df['Best3SquatKg'] < 0].index)\n",
    "print('Bench negatives at locations', df[df['Best3BenchKg'] < 0].index)\n",
    "print('Deadlift negatives at locations', df[df['Best3DeadliftKg'] < 0].index)\n",
    "print('Bodyweight negatives at locations', df[df['BodyweightKg'] < 0].index)\n",
    "print('Total negatives at locations', df[df['TotalKg'] < 0].index)"
   ]
  },
  {
   "cell_type": "code",
   "execution_count": 6,
   "metadata": {},
   "outputs": [],
   "source": [
    "# Remove all dirty data of negative lift values\n",
    "\n",
    "df.drop([1347, 5349, 5633, 5662, 6712, 7080, 309, 3470, 5607, 5700, 5703, 6182], axis = 0, inplace = True)"
   ]
  },
  {
   "cell_type": "code",
   "execution_count": 7,
   "metadata": {},
   "outputs": [
    {
     "data": {
      "text/plain": [
       "<matplotlib.axes._subplots.AxesSubplot at 0x2585da792b0>"
      ]
     },
     "execution_count": 7,
     "metadata": {},
     "output_type": "execute_result"
    },
    {
     "data": {
      "image/png": "[encoded data removed]",
      "text/plain": [
       "<Figure size 432x288 with 1 Axes>"
      ]
     },
     "metadata": {
      "needs_background": "light"
     },
     "output_type": "display_data"
    }
   ],
   "source": [
    "# https://www.drawingfromdata.com/setting-figure-size-using-seaborn-and-matplotlib\n",
    "\n",
    "df['AgeClass'].value_counts().plot(kind='barh')"
   ]
  },
  {
   "cell_type": "markdown",
   "metadata": {},
   "source": [
    "From the above we can clearly see that the 24-34 age group dominates the field with almost 50% of the field. Trailing behind then is the 20-23 age group at about 15% and then the 35-44 age group at about 8% with the remaining field taking up 5% or close to 1% in the end cases. We will only count the age groups up to 64 as the others are so small as to be ignored. With this data we can once again use the numpy.random.choice fucntion as directed above to provide an array of the data we need."
   ]
  },
  {
   "cell_type": "code",
   "execution_count": 38,
   "metadata": {},
   "outputs": [
    {
     "name": "stdout",
     "output_type": "stream",
     "text": [
      "['24-34' '16-17' '24-34' '40-44' '24-34' '40-44' '16-17' '18-19' '24-34'\n",
      " '24-34' '20-23' '35-39' '20-23' '18-19' '16-17' '20-23' '20-23' '35-39'\n",
      " '24-34' '20-23' '24-34' '16-17' '24-34' '18-19' '60-64' '18-19' '45-49'\n",
      " '45-49' '40-44' '50-54' '20-23' '24-34' '24-34' '20-23' '16-17' '55-59'\n",
      " '40-44' '24-34' '24-34' '24-34' '24-34' '24-34' '20-23' '40-44' '55-59'\n",
      " '18-19' '40-44' '20-23' '35-39' '24-34' '20-23' '24-34' '24-34' '20-23'\n",
      " '35-39' '45-49' '16-17' '20-23' '45-49' '18-19' '40-44' '18-19' '24-34'\n",
      " '24-34' '20-23' '35-39' '24-34' '20-23' '35-39' '18-19' '40-44' '45-49'\n",
      " '24-34' '24-34' '24-34' '24-34' '20-23' '20-23' '24-34' '20-23' '24-34'\n",
      " '20-23' '45-49' '24-34' '24-34' '24-34' '24-34' '40-44' '40-44' '20-23'\n",
      " '20-23' '35-39' '55-59' '24-34' '24-34' '24-34' '24-34' '40-44' '24-34'\n",
      " '35-39']\n"
     ]
    },
    {
     "data": {
      "image/png": "[encoded data removed]",
      "text/plain": [
       "<Figure size 432x288 with 1 Axes>"
      ]
     },
     "metadata": {
      "needs_background": "light"
     },
     "output_type": "display_data"
    }
   ],
   "source": [
    "# Use random.choice function with relation to the above functions to generate a sampling of ages in the dataset with the probabilities determined from the open powerlifting dataset used. \n",
    "\n",
    "Age = ['13-15', '16-17', '18-19', '20-23', '24-34', '35-39', '40-44', '45-49', '50-54', '55-59', '60-64']\n",
    "Age = np.random.choice(Age, 100, p=[0.01, 0.05, 0.05, 0.15, 0.5, 0.08, 0.08, 0.05, 0.01, 0.01, 0.01])\n",
    "print(Age)\n",
    "\n",
    "plt.hist(Age)\n",
    "plt.tight_layout()"
   ]
  },
  {
   "cell_type": "markdown",
   "metadata": {},
   "source": [
    "From the above data we can see that we have gotten rougly the same proportions as the graph taken from the empirical data. This makes it a suitable formula to use in the data generation"
   ]
  },
  {
   "cell_type": "markdown",
   "metadata": {},
   "source": [
    "### Weight\n",
    "\n",
    "Weight is another important variable in powerlifitng. It is generally thought that the heavier someone is the more weight they can push within reason. This obviously peaks out at certain stages and the amount lifted as a ratio of total bodyweight quickly falls away as the numbers go up. To generate some realistic values of weight lifted we'll need to calculate the mean value of weight lifted for males and females and the standard deviation of this o show the wide variety. We will again use the open powerlifitng dataset to get an ideo of the values we're looking at. "
   ]
  },
  {
   "cell_type": "code",
   "execution_count": 9,
   "metadata": {},
   "outputs": [
    {
     "ename": "SyntaxError",
     "evalue": "invalid syntax (<ipython-input-9-a80188a431f7>, line 4)",
     "output_type": "error",
     "traceback": [
      "\u001b[1;36m  File \u001b[1;32m\"<ipython-input-9-a80188a431f7>\"\u001b[1;36m, line \u001b[1;32m4\u001b[0m\n\u001b[1;33m    Male_Weight Class = ['59', '66', '74', '83', '93','105', '120', '120+']\u001b[0m\n\u001b[1;37m                    ^\u001b[0m\n\u001b[1;31mSyntaxError\u001b[0m\u001b[1;31m:\u001b[0m invalid syntax\n"
     ]
    }
   ],
   "source": [
    "# Source of info https://en.wikipedia.org/wiki/Powerlifting#Classes_and_categories\n",
    "# https://www.powerlifting.sport/fileadmin/ipf/data/ipf-formula/IPF_Evaluation_Report_V3_2018-10-29_anonymized.pdf\n",
    "\n",
    "Male_Weight Class = ['59', '66', '74', '83', '93','105', '120', '120+']\n",
    "Female_Weight_Class = ['47', '52', '57', '63', '72', '84', '84+']\n",
    "\n",
    "np.random.choice(Male_Weight Class\n"
   ]
  },
  {
   "cell_type": "markdown",
   "metadata": {},
   "source": [
    "### Squat, Bench & Deadlift"
   ]
  },
  {
   "cell_type": "code",
   "execution_count": null,
   "metadata": {},
   "outputs": [],
   "source": []
  },
  {
   "cell_type": "code",
   "execution_count": null,
   "metadata": {},
   "outputs": [],
   "source": [
    "Newdf = pd.DataFrame([Sex, Age], columns = ['Sex', 'AgeClass', 'BodyweightKg', 'Best3SquatKg', 'Best3BenchKg', 'Best3DeadliftKg', 'TotalKg'])"
   ]
  },
  {
   "cell_type": "markdown",
   "metadata": {},
   "source": [
    "https://www.ncbi.nlm.nih.gov/pubmed/28682930\n",
    "https://docs.scipy.org/doc/numpy-1.14.0/reference/routines.random.html\n",
    "https://www.shanelynn.ie/using-pandas-dataframe-creating-editing-viewing-data-in-python/"
   ]
  }
 ],
 "metadata": {
  "kernelspec": {
   "display_name": "Python 3",
   "language": "python",
   "name": "python3"
  },
  "language_info": {
   "codemirror_mode": {
    "name": "ipython",
    "version": 3
   },
   "file_extension": ".py",
   "mimetype": "text/x-python",
   "name": "python",
   "nbconvert_exporter": "python",
   "pygments_lexer": "ipython3",
   "version": "3.7.1"
  }
 },
 "nbformat": 4,
 "nbformat_minor": 2
}
