{
 "cells": [
  {
   "cell_type": "markdown",
   "metadata": {},
   "source": [
    "Ian Wafer\n",
    "<br>Student No. G00376322"
   ]
  },
  {
   "cell_type": "markdown",
   "metadata": {},
   "source": [
    "## Purpose\n",
    "\n",
    "The porpose of this programming project is to synthesise a dataset that simulates a rea world phenomenon of our choosing. It is recommended we pick something of interest to our personal or professional life and that we use the numpy.random package to do so. The selected phenomenon needs to be measureable and for which we could collect at least 100 data points across 4 seperate variables for. We need to investigate the variables involved, their distribution in relation to each other. Synthesise or simulate a data set that closely mathces thir properties and detail all research in a Jupyter notebook.\n"
   ]
  },
  {
   "cell_type": "markdown",
   "metadata": {},
   "source": [
    "## Introduction\n",
    "\n",
    "I have decided to investigate and generate a dataset for weight lifted in powerlifting. This is of interest to me as I have previously competed in powerlifting and have noticed certain trends that drive the sport forward\n",
    "\n",
    "In my investigation I will look at the following categories-\n",
    "- Age\n",
    "- Sex\n",
    "- Weight\n",
    "- Years competing\n",
    "- Total Squat Amount Lifted\n",
    "- Total Bench Amount Lifted\n",
    "- Total Deadlift Amount Lifted\n"
   ]
  },
  {
   "cell_type": "code",
   "execution_count": null,
   "metadata": {},
   "outputs": [],
   "source": [
    "#import relevant modules\n",
    "import pandas as pd\n",
    "import seaborn as sns\n",
    "import numpy as np\n",
    "import matplotlib.pyplot as plt\n",
    "\n",
    "# Sourced from https://stackoverflow.com/questions/43027980/purpose-of-matplotlib-inline\n",
    "# sets the backend of matplotlib to the 'inline' backend\n",
    "%matplotlib inline \n",
    "\n",
    "\n",
    "# Set default grid style for plots\n",
    "sns.set(style='darkgrid')\n"
   ]
  },
  {
   "cell_type": "markdown",
   "metadata": {},
   "source": [
    "### Age\n",
    "\n",
    "In powerlifting there is a wide range of ages from teenagers to senior citizens. To find the trend in lifting age to be expected we will load up a dataset taken from the American Open Powerlfiting database as of 2019. As this database is very large we will only be looking at the first 10,000 rows.\n"
   ]
  },
  {
   "cell_type": "code",
   "execution_count": null,
   "metadata": {},
   "outputs": [],
   "source": [
    "# Sourced from https://stackoverflow.com/questions/23853553/python-pandas-how-to-read-only-first-n-rows-of-csv-files-in/23853569\n",
    "# Database to read only the first 1000 lines as it contains tens of thousands which would be time consuming to load. \n",
    "\n",
    "df = pd.read_csv('openpowerlifting.csv', nrows=10000)\n",
    "\n",
    "# Delete irrelevant columns https://pandas.pydata.org/pandas-docs/stable/reference/api/pandas.DataFrame.drop.html\n",
    "\n",
    "df = df.drop(columns= ['Name', 'Equipment', 'Event', 'Age', 'Division', 'WeightClassKg', 'Squat1Kg', 'Squat2Kg',\n",
    "       'Squat3Kg', 'Squat4Kg', 'Bench1Kg', 'Bench2Kg',\n",
    "       'Bench3Kg', 'Bench4Kg', 'Deadlift1Kg',\n",
    "       'Deadlift2Kg', 'Deadlift3Kg', 'Deadlift4Kg', 'Place', 'Wilks', 'McCulloch', 'Glossbrenner',\n",
    "       'IPFPoints', 'Tested', 'Country', 'Federation', 'Date',\n",
    "       'MeetCountry', 'MeetState', 'MeetName'])\n",
    "\n",
    "# Check data\n",
    "\n",
    "df.tail()"
   ]
  },
  {
   "cell_type": "code",
   "execution_count": null,
   "metadata": {},
   "outputs": [],
   "source": [
    "# https://www.drawingfromdata.com/setting-figure-size-using-seaborn-and-matplotlib\n",
    "\n",
    "df['AgeClass'].value_counts().plot(kind='barh')"
   ]
  },
  {
   "cell_type": "code",
   "execution_count": null,
   "metadata": {},
   "outputs": [],
   "source": [
    "Age = ['13-15', '16-17', '18-19', '20-23', '24-34', '35-39', '40-44', '45-49', '50-54', '55-59', '60-64']\n",
    "np.random.choice(Age, 100, p=[0.01, 0.05, 0.05, 0.15, 0.5, 0.08, 0.08, 0.05, 0.01, 0.01, 0.01])"
   ]
  },
  {
   "cell_type": "code",
   "execution_count": null,
   "metadata": {},
   "outputs": [],
   "source": [
    "# Source of info https://www.ncbi.nlm.nih.gov/pubmed/28682930\n",
    "Sex = ['Male', 'Female']\n",
    "np.random.choice(Sex, 100, p=[0.63, 0.37])"
   ]
  },
  {
   "cell_type": "code",
   "execution_count": null,
   "metadata": {},
   "outputs": [],
   "source": [
    "# Source of info https://en.wikipedia.org/wiki/Powerlifting#Classes_and_categories\n",
    "# https://www.powerlifting.sport/fileadmin/ipf/data/ipf-formula/IPF_Evaluation_Report_V3_2018-10-29_anonymized.pdf\n",
    "\n",
    "Male_Weight Class = ['59', '66', '74', '83', '93','105', '120', '120+']\n",
    "Female_Weight_Class = ['47'. '52', '57', '63', '72', '84', '84+']\n",
    "\n",
    "np.random.choice(Male_Weight Class\n"
   ]
  },
  {
   "cell_type": "code",
   "execution_count": null,
   "metadata": {},
   "outputs": [],
   "source": []
  },
  {
   "cell_type": "code",
   "execution_count": null,
   "metadata": {},
   "outputs": [],
   "source": []
  },
  {
   "cell_type": "markdown",
   "metadata": {},
   "source": [
    "https://www.ncbi.nlm.nih.gov/pubmed/28682930\n",
    "https://docs.scipy.org/doc/numpy-1.14.0/reference/routines.random.html\n",
    "https://www.shanelynn.ie/using-pandas-dataframe-creating-editing-viewing-data-in-python/"
   ]
  }
 ],
 "metadata": {
  "kernelspec": {
   "display_name": "Python 3",
   "language": "python",
   "name": "python3"
  },
  "language_info": {
   "codemirror_mode": {
    "name": "ipython",
    "version": 3
   },
   "file_extension": ".py",
   "mimetype": "text/x-python",
   "name": "python",
   "nbconvert_exporter": "python",
   "pygments_lexer": "ipython3",
   "version": "3.7.1"
  }
 },
 "nbformat": 4,
 "nbformat_minor": 2
}
