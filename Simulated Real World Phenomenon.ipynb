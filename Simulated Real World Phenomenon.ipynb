{
 "cells": [
  {
   "cell_type": "markdown",
   "metadata": {},
   "source": [
    "# Simulated Real World Phenomenon\n",
    "\n",
    "Ian Wafer\n",
    "<br>Student No. G00376322"
   ]
  },
  {
   "cell_type": "markdown",
   "metadata": {},
   "source": [
    "## Purpose\n",
    "\n",
    "The purpose of this programming project is to synthesise a dataset that simulates a rea world phenomenon of our choosing. It is recommended we pick something of interest to our personal or professional life and that we use the numpy.random package to do so. The selected phenomenon needs to be measureable and for which we could collect at least 100 data points across 4 seperate variables for. We need to investigate the variables involved, their distribution in relation to each other. Synthesise or simulate a data set that closely mathces thir properties and detail all research in a Jupyter notebook.\n"
   ]
  },
  {
   "cell_type": "markdown",
   "metadata": {},
   "source": [
    "## Introduction\n",
    "\n",
    "I have decided to investigate and generate a dataset for weight lifted in powerlifting. This is of interest to me as I have previously competed in powerlifting and have noticed certain trends that drive the sport forward. To ensure we generate data with some accuracy we'll need to investigate existing data on the sport and determine the relationship between the variables in it's generation.\n",
    "\n",
    "In my investigation I will look at the following categories-\n",
    "- Sex\n",
    "- Age\n",
    "- Weight\n",
    "- Years competing\n",
    "- Total Squat Amount Lifted\n",
    "- Total Bench Amount Lifted\n",
    "- Total Deadlift Amount Lifted\n"
   ]
  },
  {
   "cell_type": "code",
   "execution_count": 146,
   "metadata": {},
   "outputs": [],
   "source": [
    "#import relevant modules\n",
    "\n",
    "import pandas as pd\n",
    "import seaborn as sns\n",
    "import numpy as np\n",
    "import matplotlib.pyplot as plt\n",
    "\n",
    "# Sourced from https://stackoverflow.com/questions/43027980/purpose-of-matplotlib-inline\n",
    "# sets the backend of matplotlib to the 'inline' backend\n",
    "\n",
    "%matplotlib inline \n",
    "\n",
    "\n",
    "# Set default grid style for plots\n",
    "\n",
    "sns.set(style='darkgrid')"
   ]
  },
  {
   "cell_type": "markdown",
   "metadata": {},
   "source": [
    "### Sex\n",
    "\n",
    "First we'll look at the sex of the dataset required. From the source listed we can see that males make up about 63% of the pool while females cover the remaining 37%. Here we can use the numpy.random.choice function to generate the quantity of males and females in the random data generation. NumPy.random.choice will generate a 1 dimnensional array of the required data in the proprtions entered in the probability chance of the event occuring."
   ]
  },
  {
   "cell_type": "code",
   "execution_count": 147,
   "metadata": {},
   "outputs": [
    {
     "name": "stdout",
     "output_type": "stream",
     "text": [
      "['Female' 'Female' 'Male' 'Male' 'Female' 'Female' 'Female' 'Male' 'Male'\n",
      " 'Female' 'Male' 'Male' 'Male' 'Male' 'Female' 'Male' 'Male' 'Female'\n",
      " 'Female' 'Male' 'Female' 'Female' 'Male' 'Female' 'Male' 'Male' 'Male'\n",
      " 'Female' 'Male' 'Male' 'Male' 'Female' 'Male' 'Female' 'Female' 'Male'\n",
      " 'Female' 'Male' 'Male' 'Male' 'Female' 'Female' 'Female' 'Male' 'Female'\n",
      " 'Male' 'Male' 'Female' 'Female' 'Male' 'Male' 'Female' 'Male' 'Female'\n",
      " 'Male' 'Female' 'Male' 'Female' 'Female' 'Female' 'Female' 'Male' 'Male'\n",
      " 'Female' 'Male' 'Male' 'Male' 'Male' 'Female' 'Male' 'Male' 'Male' 'Male'\n",
      " 'Male' 'Male' 'Male' 'Male' 'Female' 'Female' 'Female' 'Male' 'Male'\n",
      " 'Female' 'Male' 'Female' 'Male' 'Female' 'Female' 'Female' 'Male'\n",
      " 'Female' 'Female' 'Male' 'Female' 'Male' 'Female' 'Female' 'Female'\n",
      " 'Female' 'Male' 'Male']\n"
     ]
    },
    {
     "data": {
      "image/png": "[encoded data removed]",
      "text/plain": [
       "<Figure size 432x288 with 1 Axes>"
      ]
     },
     "metadata": {},
     "output_type": "display_data"
    },
    {
     "data": {
      "text/html": [
       "<div>\n",
       "<style scoped>\n",
       "    .dataframe tbody tr th:only-of-type {\n",
       "        vertical-align: middle;\n",
       "    }\n",
       "\n",
       "    .dataframe tbody tr th {\n",
       "        vertical-align: top;\n",
       "    }\n",
       "\n",
       "    .dataframe thead th {\n",
       "        text-align: right;\n",
       "    }\n",
       "</style>\n",
       "<table border=\"1\" class=\"dataframe\">\n",
       "  <thead>\n",
       "    <tr style=\"text-align: right;\">\n",
       "      <th></th>\n",
       "      <th>Sex</th>\n",
       "    </tr>\n",
       "  </thead>\n",
       "  <tbody>\n",
       "    <tr>\n",
       "      <th>96</th>\n",
       "      <td>Female</td>\n",
       "    </tr>\n",
       "    <tr>\n",
       "      <th>97</th>\n",
       "      <td>Female</td>\n",
       "    </tr>\n",
       "    <tr>\n",
       "      <th>98</th>\n",
       "      <td>Female</td>\n",
       "    </tr>\n",
       "    <tr>\n",
       "      <th>99</th>\n",
       "      <td>Male</td>\n",
       "    </tr>\n",
       "    <tr>\n",
       "      <th>100</th>\n",
       "      <td>Male</td>\n",
       "    </tr>\n",
       "  </tbody>\n",
       "</table>\n",
       "</div>"
      ],
      "text/plain": [
       "        Sex\n",
       "96   Female\n",
       "97   Female\n",
       "98   Female\n",
       "99     Male\n",
       "100    Male"
      ]
     },
     "execution_count": 147,
     "metadata": {},
     "output_type": "execute_result"
    }
   ],
   "source": [
    "# Source of info https://www.ncbi.nlm.nih.gov/pubmed/28682930\n",
    "Sex = ['Male', 'Female']\n",
    "Sex = np.random.choice(Sex, 101, p=[0.63, 0.37])\n",
    "print(Sex)\n",
    "\n",
    "plt.hist(Sex)\n",
    "plt.title('Quantity Of Group Selection In Each Sex Group')\n",
    "plt.ylabel('Quantity')\n",
    "plt.xlabel('Sex')\n",
    "plt.show()\n",
    "\n",
    "NewDF = pd.DataFrame(Sex, columns=['Sex'])\n",
    "NewDF.tail()"
   ]
  },
  {
   "cell_type": "markdown",
   "metadata": {},
   "source": [
    "### Age\n",
    "\n",
    "In powerlifting there is a wide range of ages from teenagers to senior citizens. To find the trend in lifting age to be expected we will load up a dataset taken from the American Open Powerlfiting database as of 2019. As this database is very large we will only be looking at the first 10,000 rows and rather than the individual ages we will be look at age categories.\n"
   ]
  },
  {
   "cell_type": "code",
   "execution_count": 148,
   "metadata": {},
   "outputs": [
    {
     "data": {
      "text/html": [
       "<div>\n",
       "<style scoped>\n",
       "    .dataframe tbody tr th:only-of-type {\n",
       "        vertical-align: middle;\n",
       "    }\n",
       "\n",
       "    .dataframe tbody tr th {\n",
       "        vertical-align: top;\n",
       "    }\n",
       "\n",
       "    .dataframe thead th {\n",
       "        text-align: right;\n",
       "    }\n",
       "</style>\n",
       "<table border=\"1\" class=\"dataframe\">\n",
       "  <thead>\n",
       "    <tr style=\"text-align: right;\">\n",
       "      <th></th>\n",
       "      <th>Sex</th>\n",
       "      <th>AgeClass</th>\n",
       "      <th>BodyweightKg</th>\n",
       "      <th>Best3SquatKg</th>\n",
       "      <th>Best3BenchKg</th>\n",
       "      <th>Best3DeadliftKg</th>\n",
       "      <th>TotalKg</th>\n",
       "    </tr>\n",
       "  </thead>\n",
       "  <tbody>\n",
       "    <tr>\n",
       "      <th>0</th>\n",
       "      <td>F</td>\n",
       "      <td>24-34</td>\n",
       "      <td>59.8</td>\n",
       "      <td>105.0</td>\n",
       "      <td>55.0</td>\n",
       "      <td>130.0</td>\n",
       "      <td>290.0</td>\n",
       "    </tr>\n",
       "    <tr>\n",
       "      <th>1</th>\n",
       "      <td>F</td>\n",
       "      <td>24-34</td>\n",
       "      <td>58.5</td>\n",
       "      <td>120.0</td>\n",
       "      <td>67.5</td>\n",
       "      <td>145.0</td>\n",
       "      <td>332.5</td>\n",
       "    </tr>\n",
       "    <tr>\n",
       "      <th>2</th>\n",
       "      <td>F</td>\n",
       "      <td>40-44</td>\n",
       "      <td>55.4</td>\n",
       "      <td>NaN</td>\n",
       "      <td>32.5</td>\n",
       "      <td>NaN</td>\n",
       "      <td>32.5</td>\n",
       "    </tr>\n",
       "    <tr>\n",
       "      <th>3</th>\n",
       "      <td>F</td>\n",
       "      <td>20-23</td>\n",
       "      <td>60.0</td>\n",
       "      <td>105.0</td>\n",
       "      <td>72.5</td>\n",
       "      <td>132.5</td>\n",
       "      <td>310.0</td>\n",
       "    </tr>\n",
       "    <tr>\n",
       "      <th>4</th>\n",
       "      <td>F</td>\n",
       "      <td>45-49</td>\n",
       "      <td>104.0</td>\n",
       "      <td>140.0</td>\n",
       "      <td>80.0</td>\n",
       "      <td>170.0</td>\n",
       "      <td>390.0</td>\n",
       "    </tr>\n",
       "  </tbody>\n",
       "</table>\n",
       "</div>"
      ],
      "text/plain": [
       "  Sex AgeClass  BodyweightKg  Best3SquatKg  Best3BenchKg  Best3DeadliftKg  \\\n",
       "0   F    24-34          59.8         105.0          55.0            130.0   \n",
       "1   F    24-34          58.5         120.0          67.5            145.0   \n",
       "2   F    40-44          55.4           NaN          32.5              NaN   \n",
       "3   F    20-23          60.0         105.0          72.5            132.5   \n",
       "4   F    45-49         104.0         140.0          80.0            170.0   \n",
       "\n",
       "   TotalKg  \n",
       "0    290.0  \n",
       "1    332.5  \n",
       "2     32.5  \n",
       "3    310.0  \n",
       "4    390.0  "
      ]
     },
     "execution_count": 148,
     "metadata": {},
     "output_type": "execute_result"
    }
   ],
   "source": [
    "# Sourced from https://stackoverflow.com/questions/23853553/python-pandas-how-to-read-only-first-n-rows-of-csv-files-in/23853569\n",
    "# Database to read only the first 10,000 lines as it contains tens of thousands which would be time consuming to load. \n",
    "\n",
    "df = pd.read_csv('openpowerlifting.csv', nrows=10000)\n",
    "\n",
    "# Sourced from https://pandas.pydata.org/pandas-docs/stable/reference/api/pandas.DataFrame.drop.html\n",
    "# Delete irrelevant columns \n",
    "\n",
    "df = df.drop(columns= ['Name', 'Equipment', 'Event', 'Age', 'Division', 'WeightClassKg', 'Squat1Kg', 'Squat2Kg',\n",
    "       'Squat3Kg', 'Squat4Kg', 'Bench1Kg', 'Bench2Kg',\n",
    "       'Bench3Kg', 'Bench4Kg', 'Deadlift1Kg',\n",
    "       'Deadlift2Kg', 'Deadlift3Kg', 'Deadlift4Kg', 'Place', 'Wilks', 'McCulloch', 'Glossbrenner',\n",
    "       'IPFPoints', 'Tested', 'Country', 'Federation', 'Date',\n",
    "       'MeetCountry', 'MeetState', 'MeetName'])\n",
    "\n",
    "# Check dataframe\n",
    "\n",
    "df.head()"
   ]
  },
  {
   "cell_type": "code",
   "execution_count": 149,
   "metadata": {},
   "outputs": [
    {
     "name": "stdout",
     "output_type": "stream",
     "text": [
      "Squat negatives at locations Int64Index([1347, 5349, 5633, 5662, 6712, 7080], dtype='int64')\n",
      "Bench negatives at locations Int64Index([309, 3470, 5607, 5633, 5700, 5703, 6182], dtype='int64')\n",
      "Deadlift negatives at locations Int64Index([], dtype='int64')\n",
      "Bodyweight negatives at locations Int64Index([], dtype='int64')\n",
      "Total negatives at locations Int64Index([], dtype='int64')\n"
     ]
    }
   ],
   "source": [
    "# Values must be positive so check for any dirty data negative values in all float columns\n",
    "\n",
    "print('Squat negatives at locations', df[df['Best3SquatKg'] < 0].index)\n",
    "print('Bench negatives at locations', df[df['Best3BenchKg'] < 0].index)\n",
    "print('Deadlift negatives at locations', df[df['Best3DeadliftKg'] < 0].index)\n",
    "print('Bodyweight negatives at locations', df[df['BodyweightKg'] < 0].index)\n",
    "print('Total negatives at locations', df[df['TotalKg'] < 0].index)"
   ]
  },
  {
   "cell_type": "code",
   "execution_count": 150,
   "metadata": {},
   "outputs": [],
   "source": [
    "# Remove all dirty data of negative lift values\n",
    "\n",
    "df.drop([1347, 5349, 5633, 5662, 6712, 7080, 309, 3470, 5607, 5700, 5703, 6182], axis = 0, inplace = True)"
   ]
  },
  {
   "cell_type": "code",
   "execution_count": 151,
   "metadata": {},
   "outputs": [
    {
     "data": {
      "text/plain": [
       "Text(0.5, 0, 'Quantity')"
      ]
     },
     "execution_count": 151,
     "metadata": {},
     "output_type": "execute_result"
    },
    {
     "data": {
      "image/png": "[encoded data removed]",
      "text/plain": [
       "<Figure size 432x288 with 1 Axes>"
      ]
     },
     "metadata": {},
     "output_type": "display_data"
    }
   ],
   "source": [
    "# Sourced from https://www.drawingfromdata.com/setting-figure-size-using-seaborn-and-matplotlib\n",
    "\n",
    "df['AgeClass'].value_counts().plot(kind='barh')\n",
    "plt.title('Actual Quantity Of Group Selection In Age Class')\n",
    "plt.ylabel('Age Class')\n",
    "plt.xlabel('Quantity')"
   ]
  },
  {
   "cell_type": "markdown",
   "metadata": {},
   "source": [
    "The above bar chart is a breakdown of the age groups by quantity out of a total of the sampleof 10,000. We can clearly see that the 24-34 age group dominates the field with almost 50% of the competitors. Trailing behind then is the 20-23 age group at about 15% and then the 35-44 age group at about 8% with the remaining field taking up 5% or close to 1% in the end cases. We will only count the age groups up to 64 as the others are so small as to be ignored. With this data we can once again use the numpy.random.choice fucntion as directed above to provide an array of the data we need."
   ]
  },
  {
   "cell_type": "code",
   "execution_count": 152,
   "metadata": {},
   "outputs": [
    {
     "name": "stdout",
     "output_type": "stream",
     "text": [
      "['24-34' '35-39' '24-34' '24-34' '40-44' '35-39' '40-44' '50-54' '18-19'\n",
      " '35-39' '24-34' '24-34' '45-49' '24-34' '45-49' '24-34' '24-34' '24-34'\n",
      " '24-34' '50-54' '18-19' '35-39' '18-19' '24-34' '24-34' '20-23' '24-34'\n",
      " '24-34' '24-34' '20-23' '24-34' '18-19' '24-34' '24-34' '24-34' '24-34'\n",
      " '24-34' '24-34' '24-34' '24-34' '24-34' '24-34' '20-23' '35-39' '24-34'\n",
      " '40-44' '20-23' '24-34' '24-34' '20-23' '24-34' '16-17' '24-34' '24-34'\n",
      " '60-64' '16-17' '35-39' '13-15' '20-23' '40-44' '40-44' '18-19' '24-34'\n",
      " '24-34' '20-23' '24-34' '18-19' '35-39' '24-34' '24-34' '24-34' '16-17'\n",
      " '24-34' '35-39' '24-34' '45-49' '20-23' '24-34' '45-49' '40-44' '24-34'\n",
      " '24-34' '24-34' '24-34' '24-34' '24-34' '35-39' '40-44' '24-34' '20-23'\n",
      " '40-44' '40-44' '24-34' '24-34' '40-44' '16-17' '24-34' '24-34' '24-34'\n",
      " '24-34' '16-17']\n"
     ]
    },
    {
     "data": {
      "image/png": "[encoded data removed]",
      "text/plain": [
       "<Figure size 432x288 with 1 Axes>"
      ]
     },
     "metadata": {},
     "output_type": "display_data"
    },
    {
     "data": {
      "text/html": [
       "<div>\n",
       "<style scoped>\n",
       "    .dataframe tbody tr th:only-of-type {\n",
       "        vertical-align: middle;\n",
       "    }\n",
       "\n",
       "    .dataframe tbody tr th {\n",
       "        vertical-align: top;\n",
       "    }\n",
       "\n",
       "    .dataframe thead th {\n",
       "        text-align: right;\n",
       "    }\n",
       "</style>\n",
       "<table border=\"1\" class=\"dataframe\">\n",
       "  <thead>\n",
       "    <tr style=\"text-align: right;\">\n",
       "      <th></th>\n",
       "      <th>Sex</th>\n",
       "      <th>Age Class</th>\n",
       "    </tr>\n",
       "  </thead>\n",
       "  <tbody>\n",
       "    <tr>\n",
       "      <th>96</th>\n",
       "      <td>Female</td>\n",
       "      <td>24-34</td>\n",
       "    </tr>\n",
       "    <tr>\n",
       "      <th>97</th>\n",
       "      <td>Female</td>\n",
       "      <td>24-34</td>\n",
       "    </tr>\n",
       "    <tr>\n",
       "      <th>98</th>\n",
       "      <td>Female</td>\n",
       "      <td>24-34</td>\n",
       "    </tr>\n",
       "    <tr>\n",
       "      <th>99</th>\n",
       "      <td>Male</td>\n",
       "      <td>24-34</td>\n",
       "    </tr>\n",
       "    <tr>\n",
       "      <th>100</th>\n",
       "      <td>Male</td>\n",
       "      <td>16-17</td>\n",
       "    </tr>\n",
       "  </tbody>\n",
       "</table>\n",
       "</div>"
      ],
      "text/plain": [
       "        Sex Age Class\n",
       "96   Female     24-34\n",
       "97   Female     24-34\n",
       "98   Female     24-34\n",
       "99     Male     24-34\n",
       "100    Male     16-17"
      ]
     },
     "execution_count": 152,
     "metadata": {},
     "output_type": "execute_result"
    }
   ],
   "source": [
    "# Use random.choice function with relation to the above functions to generate a sampling of ages in the dataset with the probabilities determined from the open powerlifting dataset used. \n",
    "\n",
    "Age = ['13-15', '16-17', '18-19', '20-23', '24-34', '35-39', '40-44', '45-49', '50-54', '55-59', '60-64']\n",
    "Age = np.random.choice(Age, 101, p=[0.01, 0.05, 0.05, 0.15, 0.5, 0.08, 0.08, 0.05, 0.01, 0.01, 0.01])\n",
    "print(Age)\n",
    "\n",
    "plt.hist(Age)\n",
    "plt.tight_layout()\n",
    "plt.title('Quantity Of Group Selection In Age Class')\n",
    "plt.ylabel('Quantity')\n",
    "plt.xlabel('Age Class')\n",
    "plt.show()\n",
    "\n",
    "# Insert new column onto newly created dataframe labeled Age Class with the results of the above random generation\n",
    "\n",
    "NewDF.insert(1, 'Age Class', Age, True)\n",
    "\n",
    "# Check dataframe\n",
    "\n",
    "NewDF.tail()"
   ]
  },
  {
   "cell_type": "markdown",
   "metadata": {},
   "source": [
    "From the above data we can see that we have gotten roughly the same proportions as the graph taken from the empirical data with a few variations. This makes it a suitable formula to use in the data set generation."
   ]
  },
  {
   "cell_type": "markdown",
   "metadata": {},
   "source": [
    "### Weight\n",
    "\n",
    "Weight is another important variable in powerlifitng. It is generally thought that the heavier someone is the more weight they can push within reason. This obviously peaks out at certain stages and the amount lifted as a ratio of total bodyweight quickly falls away as the numbers go up. This category will need to be broken into male and female weights and so will rely on the previously generated data to make the appropriate weight generation. Here we'd expect men to be on the heavier than women but we'll need to test the data to determine the relationship to make effective data. \n"
   ]
  },
  {
   "cell_type": "code",
   "execution_count": 153,
   "metadata": {},
   "outputs": [
    {
     "data": {
      "text/html": [
       "<div>\n",
       "<style scoped>\n",
       "    .dataframe tbody tr th:only-of-type {\n",
       "        vertical-align: middle;\n",
       "    }\n",
       "\n",
       "    .dataframe tbody tr th {\n",
       "        vertical-align: top;\n",
       "    }\n",
       "\n",
       "    .dataframe thead th {\n",
       "        text-align: right;\n",
       "    }\n",
       "</style>\n",
       "<table border=\"1\" class=\"dataframe\">\n",
       "  <thead>\n",
       "    <tr style=\"text-align: right;\">\n",
       "      <th></th>\n",
       "      <th>Sex</th>\n",
       "      <th>F</th>\n",
       "      <th>M</th>\n",
       "    </tr>\n",
       "  </thead>\n",
       "  <tbody>\n",
       "    <tr>\n",
       "      <th rowspan=\"8\" valign=\"top\">BodyweightKg</th>\n",
       "      <th>count</th>\n",
       "      <td>3072.000000</td>\n",
       "      <td>6914.000000</td>\n",
       "    </tr>\n",
       "    <tr>\n",
       "      <th>mean</th>\n",
       "      <td>72.233483</td>\n",
       "      <td>96.696743</td>\n",
       "    </tr>\n",
       "    <tr>\n",
       "      <th>std</th>\n",
       "      <td>18.859089</td>\n",
       "      <td>19.953721</td>\n",
       "    </tr>\n",
       "    <tr>\n",
       "      <th>min</th>\n",
       "      <td>40.800000</td>\n",
       "      <td>48.950000</td>\n",
       "    </tr>\n",
       "    <tr>\n",
       "      <th>25%</th>\n",
       "      <td>59.300000</td>\n",
       "      <td>82.100000</td>\n",
       "    </tr>\n",
       "    <tr>\n",
       "      <th>50%</th>\n",
       "      <td>67.200000</td>\n",
       "      <td>94.400000</td>\n",
       "    </tr>\n",
       "    <tr>\n",
       "      <th>75%</th>\n",
       "      <td>80.800000</td>\n",
       "      <td>108.000000</td>\n",
       "    </tr>\n",
       "    <tr>\n",
       "      <th>max</th>\n",
       "      <td>164.100000</td>\n",
       "      <td>194.000000</td>\n",
       "    </tr>\n",
       "  </tbody>\n",
       "</table>\n",
       "</div>"
      ],
      "text/plain": [
       "Sex                           F            M\n",
       "BodyweightKg count  3072.000000  6914.000000\n",
       "             mean     72.233483    96.696743\n",
       "             std      18.859089    19.953721\n",
       "             min      40.800000    48.950000\n",
       "             25%      59.300000    82.100000\n",
       "             50%      67.200000    94.400000\n",
       "             75%      80.800000   108.000000\n",
       "             max     164.100000   194.000000"
      ]
     },
     "execution_count": 153,
     "metadata": {},
     "output_type": "execute_result"
    }
   ],
   "source": [
    "# Determine the mean and standard deviation\n",
    "\n",
    "df[['BodyweightKg','Sex']].groupby('Sex').describe().transpose()"
   ]
  },
  {
   "cell_type": "markdown",
   "metadata": {},
   "source": [
    "From the above we can see that the average bodyweight between the sexes has a large difference with 72 kg for females and 97 kg for males but with quite similar standard deviation at 19 for females and 20 for males. We'll now use these values to generate some data together with the previously generated sex column."
   ]
  },
  {
   "cell_type": "code",
   "execution_count": 154,
   "metadata": {},
   "outputs": [
    {
     "name": "stdout",
     "output_type": "stream",
     "text": [
      "[ 48.7  94.4  70.2  75.3  69.8  49.   67.7  45.2  72.   98.5  84.7  84.2\n",
      "  61.   68.6  97.5  81.6  70.8  57.8  65.9  62.1 100.3  89.6  72.9  95.5\n",
      " 117.1  99.8  88.4  47.8  94.   93.4  79.8  67.2  61.4  65.8  62.1  64.\n",
      "  78.   73.7  32.4  84.9  57.4  66.2  92.   77.9 102.   50.4  85.4  45.\n",
      " 113.7  27.2  82.9  89.1  75.5  58.4  84.5  90.3  53.6  88.2  79.2  74.4\n",
      "  71.8  86.3  90.2  69.   98.2  84.4  37.2  66.9  79.8  49.  106.9  26.3\n",
      "  81.   59.6  79.2  74.5  88.9  61.1  42.7  78.3  64.5  75.3  86.6  92.2\n",
      "  69.6  48.6  61.7  97.4  73.8  87.7  59.7  83.   71.5  57.3  79.4  55.2\n",
      "  82.1  55.2  75.4  86.7  83.4]\n"
     ]
    },
    {
     "data": {
      "image/png": "[encoded data removed]",
      "text/plain": [
       "<Figure size 432x288 with 1 Axes>"
      ]
     },
     "metadata": {},
     "output_type": "display_data"
    }
   ],
   "source": [
    "# Sourced from https://docs.scipy.org/doc/numpy-1.15.0/reference/generated/numpy.random.normal.html\n",
    "# determine formula for generating the correct weight for females\n",
    "\n",
    "F_Mu = 72.23\n",
    "F_Sigma = 18.86\n",
    "F_Weight = np.random.normal(F_Mu, F_Sigma, 101).round(1)\n",
    "print(F_Weight)\n",
    "\n",
    "count, bins, ignored = plt.hist(F_Weight, 25, density=True)\n",
    "plt.plot(bins, 1/(F_Sigma * np.sqrt(2 * np.pi)) *\n",
    "               np.exp( - (bins - F_Mu)**2 / (2 * F_Sigma**2) ),\n",
    "         linewidth=2, color='r')\n",
    "plt.show()"
   ]
  },
  {
   "cell_type": "code",
   "execution_count": 155,
   "metadata": {},
   "outputs": [
    {
     "name": "stdout",
     "output_type": "stream",
     "text": [
      "[104.6 103.4  75.3  61.8 118.8 119.3  64.   99.4  95.1 108.5 114.2  62.9\n",
      "  92.9 101.9  91.3  88.7  77.7 104.4 115.7 101.8  69.1 101.4  66.8 114.1\n",
      "  82.6 118.6 115.1 108.3  99.   80.7  83.6  78.2  83.8  71.9 106.9 134.3\n",
      " 114.1  51.7  84.4  67.6  93.2 110.5 131.1  88.9 102.4 111.5  84.3  95.6\n",
      "  78.2 101.5 123.  103.3 117.1  70.5  83.7  63.8 106.2  64.8  72.6 108.7\n",
      " 114.9  92.1 105.8 152.4  98.4 128.5 126.4  98.3 115.7 105.   64.3 116.2\n",
      "  82.7  60.6 110.1 109.2  90.1  91.4 128.4 132.4  89.9  74.3  61.5 139.2\n",
      " 120.8 105.8  96.3  67.4 124.8  93.   85.7 105.6  90.3 106.3 114.4  70.9\n",
      " 111.2  91.4  57.7 102.6 121.3]\n"
     ]
    },
    {
     "data": {
      "image/png": "[encoded data removed]",
      "text/plain": [
       "<Figure size 432x288 with 1 Axes>"
      ]
     },
     "metadata": {},
     "output_type": "display_data"
    }
   ],
   "source": [
    "# determine formula for generating the correct weight for females\n",
    "\n",
    "M_Mu = 96.7\n",
    "M_Sigma = 19.95\n",
    "M_Weight = np.random.normal(M_Mu, M_Sigma, 101).round(1)\n",
    "print(M_Weight)\n",
    "\n",
    "count, bins, ignored = plt.hist(M_Weight, 25, density=True)\n",
    "plt.plot(bins, 1/(M_Sigma * np.sqrt(2 * np.pi)) *\n",
    "               np.exp( - (bins - M_Mu)**2 / (2 * M_Sigma**2) ),\n",
    "         linewidth=2, color='r')\n",
    "plt.show()"
   ]
  },
  {
   "cell_type": "code",
   "execution_count": 156,
   "metadata": {},
   "outputs": [
    {
     "data": {
      "text/html": [
       "<div>\n",
       "<style scoped>\n",
       "    .dataframe tbody tr th:only-of-type {\n",
       "        vertical-align: middle;\n",
       "    }\n",
       "\n",
       "    .dataframe tbody tr th {\n",
       "        vertical-align: top;\n",
       "    }\n",
       "\n",
       "    .dataframe thead th {\n",
       "        text-align: right;\n",
       "    }\n",
       "</style>\n",
       "<table border=\"1\" class=\"dataframe\">\n",
       "  <thead>\n",
       "    <tr style=\"text-align: right;\">\n",
       "      <th></th>\n",
       "      <th>Sex</th>\n",
       "      <th>Age Class</th>\n",
       "      <th>Weight (kg)</th>\n",
       "    </tr>\n",
       "  </thead>\n",
       "  <tbody>\n",
       "    <tr>\n",
       "      <th>0</th>\n",
       "      <td>Female</td>\n",
       "      <td>24-34</td>\n",
       "      <td>57.8</td>\n",
       "    </tr>\n",
       "    <tr>\n",
       "      <th>1</th>\n",
       "      <td>Female</td>\n",
       "      <td>35-39</td>\n",
       "      <td>66.2</td>\n",
       "    </tr>\n",
       "    <tr>\n",
       "      <th>2</th>\n",
       "      <td>Male</td>\n",
       "      <td>24-34</td>\n",
       "      <td>113.6</td>\n",
       "    </tr>\n",
       "    <tr>\n",
       "      <th>3</th>\n",
       "      <td>Male</td>\n",
       "      <td>24-34</td>\n",
       "      <td>95.4</td>\n",
       "    </tr>\n",
       "    <tr>\n",
       "      <th>4</th>\n",
       "      <td>Female</td>\n",
       "      <td>40-44</td>\n",
       "      <td>60.1</td>\n",
       "    </tr>\n",
       "    <tr>\n",
       "      <th>5</th>\n",
       "      <td>Female</td>\n",
       "      <td>35-39</td>\n",
       "      <td>66.4</td>\n",
       "    </tr>\n",
       "    <tr>\n",
       "      <th>6</th>\n",
       "      <td>Female</td>\n",
       "      <td>40-44</td>\n",
       "      <td>91.6</td>\n",
       "    </tr>\n",
       "    <tr>\n",
       "      <th>7</th>\n",
       "      <td>Male</td>\n",
       "      <td>50-54</td>\n",
       "      <td>71.2</td>\n",
       "    </tr>\n",
       "    <tr>\n",
       "      <th>8</th>\n",
       "      <td>Male</td>\n",
       "      <td>18-19</td>\n",
       "      <td>100.2</td>\n",
       "    </tr>\n",
       "    <tr>\n",
       "      <th>9</th>\n",
       "      <td>Female</td>\n",
       "      <td>35-39</td>\n",
       "      <td>57.4</td>\n",
       "    </tr>\n",
       "    <tr>\n",
       "      <th>10</th>\n",
       "      <td>Male</td>\n",
       "      <td>24-34</td>\n",
       "      <td>124.7</td>\n",
       "    </tr>\n",
       "    <tr>\n",
       "      <th>11</th>\n",
       "      <td>Male</td>\n",
       "      <td>24-34</td>\n",
       "      <td>96.8</td>\n",
       "    </tr>\n",
       "    <tr>\n",
       "      <th>12</th>\n",
       "      <td>Male</td>\n",
       "      <td>45-49</td>\n",
       "      <td>89.4</td>\n",
       "    </tr>\n",
       "    <tr>\n",
       "      <th>13</th>\n",
       "      <td>Male</td>\n",
       "      <td>24-34</td>\n",
       "      <td>74.4</td>\n",
       "    </tr>\n",
       "    <tr>\n",
       "      <th>14</th>\n",
       "      <td>Female</td>\n",
       "      <td>45-49</td>\n",
       "      <td>78.4</td>\n",
       "    </tr>\n",
       "    <tr>\n",
       "      <th>15</th>\n",
       "      <td>Male</td>\n",
       "      <td>24-34</td>\n",
       "      <td>109.9</td>\n",
       "    </tr>\n",
       "    <tr>\n",
       "      <th>16</th>\n",
       "      <td>Male</td>\n",
       "      <td>24-34</td>\n",
       "      <td>105.6</td>\n",
       "    </tr>\n",
       "    <tr>\n",
       "      <th>17</th>\n",
       "      <td>Female</td>\n",
       "      <td>24-34</td>\n",
       "      <td>87.4</td>\n",
       "    </tr>\n",
       "    <tr>\n",
       "      <th>18</th>\n",
       "      <td>Female</td>\n",
       "      <td>24-34</td>\n",
       "      <td>88.9</td>\n",
       "    </tr>\n",
       "    <tr>\n",
       "      <th>19</th>\n",
       "      <td>Male</td>\n",
       "      <td>50-54</td>\n",
       "      <td>142.1</td>\n",
       "    </tr>\n",
       "  </tbody>\n",
       "</table>\n",
       "</div>"
      ],
      "text/plain": [
       "       Sex Age Class  Weight (kg)\n",
       "0   Female     24-34         57.8\n",
       "1   Female     35-39         66.2\n",
       "2     Male     24-34        113.6\n",
       "3     Male     24-34         95.4\n",
       "4   Female     40-44         60.1\n",
       "5   Female     35-39         66.4\n",
       "6   Female     40-44         91.6\n",
       "7     Male     50-54         71.2\n",
       "8     Male     18-19        100.2\n",
       "9   Female     35-39         57.4\n",
       "10    Male     24-34        124.7\n",
       "11    Male     24-34         96.8\n",
       "12    Male     45-49         89.4\n",
       "13    Male     24-34         74.4\n",
       "14  Female     45-49         78.4\n",
       "15    Male     24-34        109.9\n",
       "16    Male     24-34        105.6\n",
       "17  Female     24-34         87.4\n",
       "18  Female     24-34         88.9\n",
       "19    Male     50-54        142.1"
      ]
     },
     "execution_count": 156,
     "metadata": {},
     "output_type": "execute_result"
    }
   ],
   "source": [
    "# Sourced from https://stackoverflow.com/questions/43391591/if-else-function-in-pandas-dataframe\n",
    "\n",
    "NewDF['Weight (kg)'] = np.where(NewDF['Sex'] == 'Female', np.random.normal(F_Mu, F_Sigma, 101).round(1), np.random.normal(M_Mu, M_Sigma, 101).round(1))\n",
    "\n",
    "# Check dataframe\n",
    "\n",
    "NewDF.head(20)"
   ]
  },
  {
   "cell_type": "markdown",
   "metadata": {},
   "source": [
    "### Squat, Bench & Deadlift"
   ]
  },
  {
   "cell_type": "markdown",
   "metadata": {},
   "source": [
    "To generate some realistic values of weight lifted we'll need to calculate the mean value of weight lifted for males and females and the standard deviation of this to show the wide variety. We will again use the open powerlifitng dataset to get an ideo of the values we're looking at. It is widely considered standard that there is a relationship between the sex and the persons bodyweight to how much they will lift. "
   ]
  },
  {
   "cell_type": "code",
   "execution_count": 157,
   "metadata": {},
   "outputs": [
    {
     "data": {
      "text/html": [
       "<div>\n",
       "<style scoped>\n",
       "    .dataframe tbody tr th:only-of-type {\n",
       "        vertical-align: middle;\n",
       "    }\n",
       "\n",
       "    .dataframe tbody tr th {\n",
       "        vertical-align: top;\n",
       "    }\n",
       "\n",
       "    .dataframe thead th {\n",
       "        text-align: right;\n",
       "    }\n",
       "</style>\n",
       "<table border=\"1\" class=\"dataframe\">\n",
       "  <thead>\n",
       "    <tr style=\"text-align: right;\">\n",
       "      <th></th>\n",
       "      <th>0</th>\n",
       "    </tr>\n",
       "  </thead>\n",
       "  <tbody>\n",
       "    <tr>\n",
       "      <th>Age</th>\n",
       "      <td>[24-34, 35-39, 24-34, 24-34, 40-44, 35-39, 40-...</td>\n",
       "    </tr>\n",
       "    <tr>\n",
       "      <th>Sex</th>\n",
       "      <td>[Female, Female, Male, Male, Female, Female, F...</td>\n",
       "    </tr>\n",
       "  </tbody>\n",
       "</table>\n",
       "</div>"
      ],
      "text/plain": [
       "                                                     0\n",
       "Age  [24-34, 35-39, 24-34, 24-34, 40-44, 35-39, 40-...\n",
       "Sex  [Female, Female, Male, Male, Female, Female, F..."
      ]
     },
     "execution_count": 157,
     "metadata": {},
     "output_type": "execute_result"
    }
   ],
   "source": [
    "NewData = {'Age':[Age],\n",
    "           'Sex':[Sex]}\n",
    "\n",
    "Newdf = pd.DataFrame(NewData)\n",
    "\n",
    "Newdf.head().transpose()"
   ]
  },
  {
   "cell_type": "markdown",
   "metadata": {},
   "source": [
    "https://www.ncbi.nlm.nih.gov/pubmed/28682930\n",
    "https://docs.scipy.org/doc/numpy-1.14.0/reference/routines.random.html\n",
    "https://www.shanelynn.ie/using-pandas-dataframe-creating-editing-viewing-data-in-python/\n",
    "https://stackoverflow.com/questions/45264141/convert-array-into-dataframe-in-python/54150900\n",
    "https://pandas.pydata.org/\n",
    "https://docs.scipy.org/doc/numpy-1.14.0/reference/routines.random.html"
   ]
  }
 ],
 "metadata": {
  "kernelspec": {
   "display_name": "Python 3",
   "language": "python",
   "name": "python3"
  },
  "language_info": {
   "codemirror_mode": {
    "name": "ipython",
    "version": 3
   },
   "file_extension": ".py",
   "mimetype": "text/x-python",
   "name": "python",
   "nbconvert_exporter": "python",
   "pygments_lexer": "ipython3",
   "version": "3.7.1"
  }
 },
 "nbformat": 4,
 "nbformat_minor": 2
}
